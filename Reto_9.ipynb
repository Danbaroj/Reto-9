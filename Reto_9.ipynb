{
 "cells": [
  {
   "cell_type": "markdown",
   "metadata": {},
   "source": [
    "## Reto 9"
   ]
  },
  {
   "cell_type": "markdown",
   "metadata": {},
   "source": [
    "1. De los retos anteriores selecione 3 funciones y escribalas en forma de lambdas."
   ]
  },
  {
   "cell_type": "markdown",
   "metadata": {},
   "source": [
    "- Haga un programa que utilice una función para calcular el valor de un préstamo C usando interés compuesto del i por n meses."
   ]
  },
  {
   "cell_type": "code",
   "execution_count": null,
   "metadata": {},
   "outputs": [],
   "source": [
    "if __name__ == \"__main__\":\n",
    "\n",
    "    c = float(input(\"¿De cuanto es el prestamo?: \"))\n",
    "    i = float(input(\"¿De cuanto es el porcentaje del interes?: \"))\n",
    "    n = float(input(\"¿Por cuantos meses: \"))\n",
    "\n",
    "    interes_compuesto = lambda c, i, n : c * ((1+(i/100))**n) #Función anonima para calcular el interes compuesto.\n",
    "    valor_int_comp = interes_compuesto(c,i,n) #Da valor a la variable \"valor_int_comp\" utilzando la función anonima.\n",
    "\n",
    "    print(\"El interes compuesto es de \" + str(valor_int_comp))   "
   ]
  },
  {
   "cell_type": "markdown",
   "metadata": {},
   "source": [
    "- Mi mamá me manda a comprar P panes a 300 cada uno, M bolsas de leche a 3300 cada una y H huevos a 350 cada uno. Hacer un programa que me diga las vueltas (o lo que quedo debiendo) cuando me da un billete de B pesos.\n"
   ]
  },
  {
   "cell_type": "code",
   "execution_count": null,
   "metadata": {},
   "outputs": [],
   "source": [
    "if __name__ == \"__main__\":\n",
    "\n",
    "    P = int(input(\"Cuantos panes se mandaron a comprar: \"))\n",
    "    M = int(input(\"Cuantas bolsas de leche mandaron a comprar: \"))\n",
    "    H = int(input(\"Cuantos huevos mandaron a comprar: \"))\n",
    "    B = int(input(\"Cuanto dinero le dinero le dieron: \"))\n",
    "\n",
    "    vueltas = lambda P, M , H, B: B - ((P*300)+(M*3300)+(H*350)) #Función anonima que se encarga de calcular las vueltas\n",
    "    dinero = vueltas(P, M, H, B) #Da valor a la variable \"dinero\" haciendo uso de la función anonima\n",
    "    \n",
    "    #Condicionales para conocer si se debe dinero o si le deben dar vueltas\n",
    "\n",
    "    if dinero > 0:\n",
    "        print (\"Te deberian dar de vueltas \" + str(dinero) + \" pesos\")\n",
    "    else: \n",
    "        if dinero < 0:\n",
    "            debo = abs(dinero)\n",
    "            print (\"Deberias \" + str(debo) + \" pesos\")"
   ]
  },
  {
   "cell_type": "markdown",
   "metadata": {},
   "source": [
    "- El número de contagiados de Covid-19 en el país de NuncaLandia se duplica cada día. Hacer un programa que diga el número total de personas que se han contagiado cuando pasen D días a partir de hoy, si el número de contagiados actuales es C."
   ]
  },
  {
   "cell_type": "code",
   "execution_count": null,
   "metadata": {},
   "outputs": [],
   "source": [
    "if __name__ == \"__main__\":\n",
    "\n",
    "    C = int(input(\"¿Cuantas personas hay contagiadas actualmente?: \"))\n",
    "    D = int(input(\"¿Cuantos días pasaran?: \"))\n",
    "\n",
    "    num_contagiados = lambda D, C :C * (2**D) #Función anonima que calcula el numero de contagiados\n",
    "    cantidad_contagiados= num_contagiados(D,C)#Da valor a la variable \"cantidad_contagiados\" haaciendo uso de la función anonima\n",
    "     \n",
    "    print(\"La cantidad de personas que se contagiaran en \" +str(D) + \" dias, será de \" + str(cantidad_contagiados))"
   ]
  },
  {
   "cell_type": "markdown",
   "metadata": {},
   "source": [
    "2. De los retos anteriores selecione 3 funciones y escribalas con argumentos no definidos (*args)."
   ]
  },
  {
   "cell_type": "markdown",
   "metadata": {},
   "source": [
    "- Implementar el algoritmo que muestre los números primos del 1 al 100. Nota: use funciones"
   ]
  },
  {
   "cell_type": "code",
   "execution_count": null,
   "metadata": {},
   "outputs": [],
   "source": [
    "def primo(numero):\n",
    "    \n",
    "    # Verifica si el número es menor o igual a 1, ya que los números primos deben ser mayores que 1\n",
    "    \n",
    "    if numero <= 1:\n",
    "        return False\n",
    "    \n",
    "    divisor = 2\n",
    "    \n",
    "    #Bucle que itera hasta que el cuadrado del divisor sea menor o igual que el número\n",
    "    \n",
    "    while (divisor ** 2) <= numero:\n",
    "\n",
    "        # Verifica si el número es divisible por el divisor actual\n",
    "        \n",
    "        if numero % divisor == 0:\n",
    "            return False\n",
    "        divisor += 1\n",
    "\n",
    "    return True\n",
    "\n",
    "def limite_primos(*args):\n",
    "\n",
    "    #Bucle que itera sobre cada límite pasado como argumento\n",
    "    \n",
    "    for limite in args:\n",
    "        print(\"Números primos del 1 al \" + str(limite))\n",
    "        num = 2\n",
    "\n",
    "        #Bucle que itera desde 2 hasta el límite\n",
    "        \n",
    "        while num <= limite:\n",
    "            \n",
    "            # Verifica si el número es primo utilizando la función primo()\n",
    "            \n",
    "            if primo(num):\n",
    "                print(num)\n",
    "            num += 1\n",
    "            print()\n",
    "\n",
    "limite_primos(100)  # Limita los primos mostrados hasta 100"
   ]
  },
  {
   "cell_type": "markdown",
   "metadata": {},
   "source": [
    "- Programa que muestre los números primos del 1 al 100. Nota: use funciones"
   ]
  },
  {
   "cell_type": "code",
   "execution_count": null,
   "metadata": {},
   "outputs": [],
   "source": [
    "def divisores(*args):\n",
    "\n",
    "    #Bucle que itera sobre cada número pasado como argumento\n",
    "    \n",
    "    for num in args:\n",
    "        divisor = 50\n",
    "\n",
    "        \n",
    "        print(f\"Divisores de {num}:\")\n",
    "        \n",
    "        #Bucle que itera desde 50 hasta 2 para encontrar los divisores del número\n",
    "\n",
    "        while divisor > 1:\n",
    "            \n",
    "            # Verifica si el número es divisible por el divisor actual\n",
    "            \n",
    "            if num % divisor == 0:\n",
    "                print(divisor)\n",
    "            divisor -= 1\n",
    "\n",
    "if __name__ == \"__main__\":\n",
    "\n",
    "    numero = int(input(\"Ingrese un número de 2 a 50: \"))\n",
    "    \n",
    "    # Llama a la función divisores() con el número ingresado como argumento\n",
    "    \n",
    "    divisores(numero)\n"
   ]
  },
  {
   "cell_type": "markdown",
   "metadata": {},
   "source": [
    "- Imprimir los números pares en forma descendente hasta 2 que son menores o iguales a un número natural n ≥ 2 dado\n"
   ]
  },
  {
   "cell_type": "code",
   "execution_count": null,
   "metadata": {},
   "outputs": [],
   "source": [
    "def num_par(*args):\n",
    "\n",
    "    #Bucle que itera sobre cada número pasado como argumento\n",
    "    \n",
    "    for num in args:\n",
    "\n",
    "        numero_inicial = 1000\n",
    "        print(\"Los siguientes números pares son menores al número natural dado:\")\n",
    "        \n",
    "        #Bucle que itera hasta que el número inicial sea mayor que 2\n",
    "\n",
    "        while numero_inicial > 2:\n",
    "\n",
    "            numero_inicial -= 2\n",
    "            if numero_inicial > num:\n",
    "                continue\n",
    "            print(numero_inicial)\n",
    "\n",
    "        print(\"Fin del listado\")\n",
    "\n",
    "if __name__ == \"__main__\":\n",
    "\n",
    "    numero = int(input(\"Ingrese un número natural mayor o igual a 2: \"))\n",
    "    num_par(numero)\n",
    "\n",
    "\n",
    "#Nota del autor: Me di cuenta que a la hora de hacerlo para el reto 7, lo puse mal, esta asi: int(input(\"Ingrese un numero naturar menor o igual a 2: \"))"
   ]
  },
  {
   "cell_type": "markdown",
   "metadata": {},
   "source": [
    "3. Escriba una función recursiva para calcular la operación de la potencia."
   ]
  },
  {
   "cell_type": "code",
   "execution_count": null,
   "metadata": {},
   "outputs": [],
   "source": [
    "def potencia(n, x):\n",
    "\n",
    "    # Verifica si el exponente es igual a 0, en cuyo caso devuelve 1\n",
    "    \n",
    "    if x == 0:\n",
    "        return 1\n",
    "    else: \n",
    "\n",
    "        return n ** x\n",
    "    \n",
    "if __name__ == \"__main__\":\n",
    "    \n",
    "    n = int(input(\"Ingrese el número que será la base: \"))\n",
    "    x = int(input(\"Ingrese su exponente: \"))\n",
    "    \n",
    "    poten = potencia(n, x)# Calcula la potencia utilizando la función potencia() y los números ingresados por el usuario\n",
    "    \n",
    "    print(\"El número \" + str(n) + \" elevado al exponente \" + str(x) + \" es igual a \" + str(poten))\n"
   ]
  }
 ],
 "metadata": {
  "kernelspec": {
   "display_name": "Python 3",
   "language": "python",
   "name": "python3"
  },
  "language_info": {
   "codemirror_mode": {
    "name": "ipython",
    "version": 3
   },
   "file_extension": ".py",
   "mimetype": "text/x-python",
   "name": "python",
   "nbconvert_exporter": "python",
   "pygments_lexer": "ipython3",
   "version": "3.12.2"
  }
 },
 "nbformat": 4,
 "nbformat_minor": 2
}
